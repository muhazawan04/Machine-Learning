{
 "cells": [
  {
   "cell_type": "code",
   "execution_count": 43,
   "id": "1a540010-2c7d-4557-bc2b-2504bd328297",
   "metadata": {},
   "outputs": [
    {
     "name": "stdout",
     "output_type": "stream",
     "text": [
      "Red sections: [(6, 0), (7, 0), (0, 1), (6, 1), (0, 5), (0, 6), (1, 6), (2, 6), (3, 6), (4, 6), (5, 6), (6, 6), (7, 6), (0, 7), (1, 7), (2, 7), (3, 7), (4, 7), (5, 7), (6, 7), (7, 7), (0, 8), (1, 8), (2, 8), (3, 8), (5, 8), (7, 8)]\n"
     ]
    },
    {
     "data": {
      "text/plain": [
       "-1"
      ]
     },
     "execution_count": 43,
     "metadata": {},
     "output_type": "execute_result"
    }
   ],
   "source": [
    "import cv2\n",
    "import numpy as np\n",
    "\n",
    "# Define a function to calculate variable section widths based on a list of percentages\n",
    "def calculate_variable_widths(image_dimension, percentages):\n",
    "    section_widths = []\n",
    "    for percentage in percentages:\n",
    "        section_width = int(image_dimension * (percentage / 100))\n",
    "        section_widths.append(section_width)\n",
    "    return section_widths\n",
    "\n",
    "# Read the image\n",
    "image = cv2.imread(\"1.jpg\")\n",
    "\n",
    "# Convert the image to grayscale\n",
    "grayscale_image = cv2.cvtColor(image, cv2.COLOR_BGR2GRAY)\n",
    "\n",
    "# Define the list of percentages for variable section widths in both x and y axes\n",
    "percentages_x = [4, 6, 6, 6, 35,8, 15, 10,10]\n",
    "percentages_y = [14, 12.5, 12, 12, 12, 13, 12, 13.5]\n",
    "\n",
    "# Calculate the section widths based on percentages and image width and height\n",
    "section_widths_x = calculate_variable_widths(image.shape[1], percentages_x)\n",
    "section_widths_y = calculate_variable_widths(image.shape[0], percentages_y)\n",
    "\n",
    "# Initialize empty list to store red sections and section boundaries\n",
    "red_sections = []\n",
    "section_boundaries_x = []\n",
    "section_boundaries_y = []\n",
    "\n",
    "# Loop through each section in x-axis\n",
    "for i, section_width_x in enumerate(section_widths_x):\n",
    "    if i == 0:\n",
    "        start_x = 0\n",
    "    else:\n",
    "        start_x = section_boundaries_x[i - 1]  # Use the previous section boundary as the starting point\n",
    "    end_x = start_x + section_width_x\n",
    "\n",
    "    section_boundaries_x.append(end_x)\n",
    "\n",
    "    # Loop through each section in y-axis\n",
    "    for j, section_width_y in enumerate(section_widths_y):\n",
    "        if j == 0:\n",
    "            start_y = 0\n",
    "        else:\n",
    "            start_y = section_boundaries_y[j - 1]  # Use the previous section boundary as the starting point\n",
    "        end_y = start_y + section_width_y\n",
    "\n",
    "        section_boundaries_y.append(end_y)\n",
    "\n",
    "        # Extract the current section\n",
    "        section = grayscale_image[start_y:end_y, start_x:end_x]\n",
    "\n",
    "        # Threshold the section to convert it to black and white\n",
    "        _, binary_section = cv2.threshold(section, 170, 255, cv2.THRESH_BINARY)\n",
    "\n",
    "        # Check if any pixel in the section is black (representing red in the original image)\n",
    "        # Draw lines on the output image to mark the section boundaries (RGB)\n",
    "        cv2.line(image, (start_x, start_y), (end_x, start_y), (0, 0, 0), 1)\n",
    "        cv2.line(image, (start_x, start_y), (start_x, end_y), (0, 0, 0), 1)\n",
    "\n",
    "        \n",
    "        if np.sum(binary_section == 0) > 0:\n",
    "            red_sections.append((j, i))\n",
    "            \n",
    "            # Draw bounding box around the detected section\n",
    "            cv2.rectangle(image, (start_x, start_y), (end_x, end_y), (0, 0, 0), 2)\n",
    "\n",
    "        \n",
    "\n",
    "# Print the indices of the red sections and section boundaries\n",
    "print(f\"Red sections: {red_sections}\")\n",
    "\n",
    "# Display the output image with bounding boxes\n",
    "cv2.imshow(\"Output Image with Bounding Boxes\", image)\n",
    "\n",
    "cv2.waitKey(0)\n"
   ]
  },
  {
   "cell_type": "code",
   "execution_count": null,
   "id": "4d80d492-b8f1-403b-92bf-6bfc40c31b42",
   "metadata": {},
   "outputs": [],
   "source": []
  },
  {
   "cell_type": "code",
   "execution_count": null,
   "id": "a32e63c1-2522-4b86-ad36-87b51cf7a031",
   "metadata": {},
   "outputs": [],
   "source": []
  }
 ],
 "metadata": {
  "kernelspec": {
   "display_name": "venv",
   "language": "python",
   "name": "venv"
  },
  "language_info": {
   "codemirror_mode": {
    "name": "ipython",
    "version": 3
   },
   "file_extension": ".py",
   "mimetype": "text/x-python",
   "name": "python",
   "nbconvert_exporter": "python",
   "pygments_lexer": "ipython3",
   "version": "3.9.7"
  }
 },
 "nbformat": 4,
 "nbformat_minor": 5
}
